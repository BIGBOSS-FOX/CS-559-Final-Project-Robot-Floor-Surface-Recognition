{
 "cells": [
  {
   "cell_type": "code",
   "execution_count": 206,
   "metadata": {},
   "outputs": [],
   "source": [
    "import tensorflow as tf\n",
    "from tensorflow.keras.models import Sequential\n",
    "from tensorflow.keras.layers import Dense, Dropout, Activation, Flatten, Conv2D, MaxPooling2D\n",
    "import matplotlib.pyplot as plt\n",
    "import numpy as np\n",
    "from sklearn.preprocessing import normalize\n",
    "from tensorflow.keras.callbacks import TensorBoard\n",
    "import time\n",
    "\n",
    "NAME = \"Surface_CNN_64x2_{}\".format(int(time.time()))\n",
    "\n",
    "tensorboard = TensorBoard(log_dir='log/{}'.format(NAME))"
   ]
  },
  {
   "cell_type": "code",
   "execution_count": 207,
   "metadata": {},
   "outputs": [
    {
     "data": {
      "text/plain": [
       "array([[ 0.0000e+00,  0.0000e+00, -7.5853e-01, ..., -7.4857e-01,\n",
       "         2.1030e+00, -9.7532e+00],\n",
       "       [ 0.0000e+00,  1.0000e+00, -7.5853e-01, ...,  3.3995e-01,\n",
       "         1.5064e+00, -9.4128e+00],\n",
       "       [ 0.0000e+00,  2.0000e+00, -7.5853e-01, ..., -2.6429e-01,\n",
       "         1.5922e+00, -8.7267e+00],\n",
       "       ...,\n",
       "       [ 3.8090e+03,  1.2500e+02,  6.2891e-01, ...,  2.7048e+00,\n",
       "         4.2622e+00, -8.1443e+00],\n",
       "       [ 3.8090e+03,  1.2600e+02,  6.2903e-01, ...,  2.5410e+00,\n",
       "         4.7130e+00, -9.4435e+00],\n",
       "       [ 3.8090e+03,  1.2700e+02,  6.2915e-01, ...,  8.2391e-01,\n",
       "         4.2751e+00, -1.0498e+01]])"
      ]
     },
     "execution_count": 207,
     "metadata": {},
     "output_type": "execute_result"
    }
   ],
   "source": [
    "# Load training data from 'X_train.csv' into numpy array. Delete the first row and the first column\n",
    "X_data = np.genfromtxt('X_train.csv', delimiter=',', skip_header=1)\n",
    "X_data = np.delete(X_data, 0, 1)\n",
    "X_data"
   ]
  },
  {
   "cell_type": "code",
   "execution_count": 208,
   "metadata": {},
   "outputs": [
    {
     "data": {
      "text/plain": [
       "\"\\ny_data = np.genfromtxt('y_train.csv', delimiter=',', skip_header=1, usecols=(0,1))\\ny_data\\n\""
      ]
     },
     "execution_count": 208,
     "metadata": {},
     "output_type": "execute_result"
    }
   ],
   "source": [
    "'''\n",
    "y_data = np.genfromtxt('y_train.csv', delimiter=',', skip_header=1, usecols=(0,1))\n",
    "y_data\n",
    "'''"
   ]
  },
  {
   "cell_type": "code",
   "execution_count": 223,
   "metadata": {},
   "outputs": [
    {
     "data": {
      "text/plain": [
       "array([2, 1, 1, ..., 2, 7, 5], dtype=int64)"
      ]
     },
     "execution_count": 223,
     "metadata": {},
     "output_type": "execute_result"
    }
   ],
   "source": [
    "# Load the training labels from 'y_train.csv' into numpy array. \n",
    "# Replace the name of labels with numbers.\n",
    "# 'carpet' => 0\n",
    "# 'concrete' => 1\n",
    "# 'fine_concrete' => 2\n",
    "# 'hard_tiles' => 3\n",
    "# 'hard_tiles_large_space' => 4\n",
    "# 'soft_pvc' => 5\n",
    "# 'soft_tiles' => 6\n",
    "# 'tiled' => 7\n",
    "# 'wood' => 8\n",
    "y_label = np.genfromtxt('y_train.csv', dtype='str', delimiter=',', skip_header=1, usecols=(2))\n",
    "y = np.unique(y_label, return_inverse=True)[1]\n",
    "y"
   ]
  },
  {
   "cell_type": "code",
   "execution_count": 224,
   "metadata": {},
   "outputs": [
    {
     "data": {
      "text/plain": [
       "(487680, 10)"
      ]
     },
     "execution_count": 224,
     "metadata": {},
     "output_type": "execute_result"
    }
   ],
   "source": [
    "# Extract features from training data\n",
    "X_feature = X_data[:, 2:]\n",
    "np.shape(X_feature)"
   ]
  },
  {
   "cell_type": "code",
   "execution_count": 225,
   "metadata": {},
   "outputs": [
    {
     "data": {
      "text/plain": [
       "array([[ 2.8432723 , -0.02466762,  1.39666401],\n",
       "       [ 2.84319907, -0.02466201,  1.39664647],\n",
       "       [ 2.84322377, -0.02472832,  1.39668201],\n",
       "       ...,\n",
       "       [ 2.90765693, -0.01869871, -1.76785591],\n",
       "       [ 2.90747957, -0.01865525, -1.7675341 ],\n",
       "       [ 2.90736503, -0.0186646 , -1.76719979]])"
      ]
     },
     "execution_count": 225,
     "metadata": {},
     "output_type": "execute_result"
    }
   ],
   "source": [
    "# Convert orientation features \n",
    "# from quaternion (orientation_W, orientation_X, orientation_Y, orientation_Z) \n",
    "# to euler angles (roll, pitch, yaw)\n",
    "def q_to_angle(q_val):\n",
    "    #We assume q_val is in this format: [qw, q1, q2, q3]\n",
    "    #And the quaternion is normalized\n",
    "    roll = np.arctan2(2*(q_val[0]*q_val[1] + q_val[2]*q_val[3]),1 - 2*(q_val[1]*q_val[1] + q_val[2]*q_val[2]))\n",
    "    pitch = np.arcsin(2*(q_val[0]*q_val[2] - q_val[3]*q_val[1]))\n",
    "    yaw = np.arctan2(2*(q_val[0]*q_val[3] + q_val[1]*q_val[2]),1 - 2*(q_val[2]*q_val[2] + q_val[3]*q_val[3]))\n",
    "    return np.array([roll, pitch, yaw])\n",
    "\n",
    "R_P_Y = []\n",
    "\n",
    "for i in range(len(X_feature)):\n",
    "    R_P_Y.append(q_to_angle([X_feature[i, 3], X_feature[i, 0], X_feature[i, 1], X_feature[i, 2]]))\n",
    "\n",
    "R_P_Y = np.array(R_P_Y)\n",
    "R_P_Y"
   ]
  },
  {
   "cell_type": "code",
   "execution_count": 226,
   "metadata": {},
   "outputs": [
    {
     "data": {
      "text/plain": [
       "(487680, 9)"
      ]
     },
     "execution_count": 226,
     "metadata": {},
     "output_type": "execute_result"
    }
   ],
   "source": [
    "# Replace [orientation_W, orientation_X, orientation_Y, orientation_Z] with [roll, pitch, yaw]\n",
    "X_feature[:, 0] = R_P_Y[:, 0]\n",
    "X_feature[:, 1] = R_P_Y[:, 1]\n",
    "X_feature[:, 2] = R_P_Y[:, 2]\n",
    "X_feature = np.delete(X_feature, 3, 1)\n",
    "np.shape(X_feature)"
   ]
  },
  {
   "cell_type": "code",
   "execution_count": 253,
   "metadata": {},
   "outputs": [
    {
     "data": {
      "text/plain": [
       "array([[[ 2.84327230e+00, -2.46676154e-02,  1.39666401e+00, ...,\n",
       "         -7.48570000e-01,  2.10300000e+00, -9.75320000e+00],\n",
       "        [ 2.84319907e+00, -2.46620139e-02,  1.39664647e+00, ...,\n",
       "          3.39950000e-01,  1.50640000e+00, -9.41280000e+00],\n",
       "        [ 2.84322377e+00, -2.47283163e-02,  1.39668201e+00, ...,\n",
       "         -2.64290000e-01,  1.59220000e+00, -8.72670000e+00],\n",
       "        ...,\n",
       "        [ 2.84215195e+00, -2.36391962e-02,  1.39333622e+00, ...,\n",
       "         -9.81930000e-01,  9.73280000e-01, -9.97950000e+00],\n",
       "        [ 2.84214068e+00, -2.35619899e-02,  1.39327083e+00, ...,\n",
       "         -7.25910000e-01,  3.49310000e-01, -1.19770000e+01],\n",
       "        [ 2.84232293e+00, -2.36388073e-02,  1.39323311e+00, ...,\n",
       "         -5.34260000e-01,  8.03460000e-01, -1.06970000e+01]],\n",
       "\n",
       "       [[ 2.84107449e+00, -1.15986595e-02, -4.90163967e-01, ...,\n",
       "          2.18480000e+00,  2.25260000e+00, -8.95030000e+00],\n",
       "        [ 2.84043537e+00, -1.17174267e-02, -4.90272005e-01, ...,\n",
       "          4.99050000e-01,  2.97620000e+00, -5.49530000e+00],\n",
       "        [ 2.84024549e+00, -1.17122897e-02, -4.90214946e-01, ...,\n",
       "          7.48270000e-01,  1.68030000e+00, -7.30610000e+00],\n",
       "        ...,\n",
       "        [ 2.84164138e+00, -9.15372615e-03, -4.93662006e-01, ...,\n",
       "         -3.19340000e+00, -4.93070000e-01, -9.86610000e+00],\n",
       "        [ 2.84176155e+00, -9.22464003e-03, -4.93603645e-01, ...,\n",
       "          1.52620000e+00,  2.32720000e+00, -1.03900000e+01],\n",
       "        [ 2.84193747e+00, -9.34344707e-03, -4.93728111e-01, ...,\n",
       "          6.62440000e-03,  2.07300000e+00, -9.70370000e+00]],\n",
       "\n",
       "       [[ 2.84606437e+00, -1.25730068e-02,  2.06128811e+00, ...,\n",
       "          3.99320000e-01,  3.60660000e+00, -5.74420000e+00],\n",
       "        [ 2.84526773e+00, -1.24937564e-02,  2.06108781e+00, ...,\n",
       "          1.19020000e+00,  3.57280000e+00, -7.24140000e+00],\n",
       "        [ 2.84488425e+00, -1.26097265e-02,  2.06095631e+00, ...,\n",
       "          1.31490000e+00,  3.09800000e+00, -1.05770000e+01],\n",
       "        ...,\n",
       "        [ 2.84639866e+00, -1.18410100e-02,  2.04990529e+00, ...,\n",
       "         -1.11230000e-01,  4.21000000e+00, -1.04950000e+01],\n",
       "        [ 2.84658035e+00, -1.18446178e-02,  2.04978150e+00, ...,\n",
       "         -2.59300000e+00,  2.04870000e+00, -9.56420000e+00],\n",
       "        [ 2.84675833e+00, -1.17950507e-02,  2.04968415e+00, ...,\n",
       "         -1.67620000e+00,  3.03240000e+00, -8.25690000e+00]],\n",
       "\n",
       "       ...,\n",
       "\n",
       "       [[ 2.82518947e+00, -9.77186668e-03, -2.32390171e+00, ...,\n",
       "          1.96400000e+00,  3.96000000e+00, -9.29720000e+00],\n",
       "        [ 2.82503807e+00, -9.90536442e-03, -2.32297816e+00, ...,\n",
       "         -1.81390000e-01,  3.62480000e+00, -8.40000000e+00],\n",
       "        [ 2.82483064e+00, -9.86055213e-03, -2.32205455e+00, ...,\n",
       "          1.03500000e+00,  5.43620000e+00, -8.34150000e+00],\n",
       "        ...,\n",
       "        [ 2.83395029e+00, -6.47964658e-03, -2.21383210e+00, ...,\n",
       "         -2.30860000e+00,  3.28240000e-01, -1.22460000e+01],\n",
       "        [ 2.83420674e+00, -6.65377680e-03, -2.21278068e+00, ...,\n",
       "          2.34810000e+00,  1.61560000e+00, -1.06180000e+01],\n",
       "        [ 2.83420332e+00, -6.67787083e-03, -2.21199791e+00, ...,\n",
       "         -4.04380000e+00, -1.46370000e+00, -1.03020000e+01]],\n",
       "\n",
       "       [[ 2.83923958e+00, -1.32551370e-02, -2.58393154e+00, ...,\n",
       "          4.27530000e-02,  6.33170000e+00, -1.07450000e+01],\n",
       "        [ 2.83937364e+00, -1.31444092e-02, -2.58398669e+00, ...,\n",
       "          1.42790000e+00,  7.53400000e+00, -8.49770000e+00],\n",
       "        [ 2.83950522e+00, -1.30130647e-02, -2.58414328e+00, ...,\n",
       "         -4.56660000e-01,  7.64700000e+00, -7.60960000e+00],\n",
       "        ...,\n",
       "        [ 2.83930754e+00, -1.17386172e-02, -2.61426758e+00, ...,\n",
       "          2.05820000e+00,  5.22080000e+00, -9.91590000e+00],\n",
       "        [ 2.83948690e+00, -1.17828398e-02, -2.61431230e+00, ...,\n",
       "         -2.21390000e+00,  5.59980000e+00, -8.37230000e+00],\n",
       "        [ 2.83969435e+00, -1.18111546e-02, -2.61442318e+00, ...,\n",
       "          2.79920000e+00,  6.65260000e+00, -8.38130000e+00]],\n",
       "\n",
       "       [[ 2.90868713e+00, -1.91882571e-02, -1.76636375e+00, ...,\n",
       "          6.85260000e-01,  2.79880000e+00, -8.98640000e+00],\n",
       "        [ 2.90888334e+00, -1.91423601e-02, -1.76637321e+00, ...,\n",
       "          5.23430000e-01,  2.85110000e+00, -8.38040000e+00],\n",
       "        [ 2.90910458e+00, -1.91360091e-02, -1.76659668e+00, ...,\n",
       "          8.50060000e-01,  3.00320000e+00, -8.30520000e+00],\n",
       "        ...,\n",
       "        [ 2.90765693e+00, -1.86987069e-02, -1.76785591e+00, ...,\n",
       "          2.70480000e+00,  4.26220000e+00, -8.14430000e+00],\n",
       "        [ 2.90747957e+00, -1.86552522e-02, -1.76753410e+00, ...,\n",
       "          2.54100000e+00,  4.71300000e+00, -9.44350000e+00],\n",
       "        [ 2.90736503e+00, -1.86645989e-02, -1.76719979e+00, ...,\n",
       "          8.23910000e-01,  4.27510000e+00, -1.04980000e+01]]])"
      ]
     },
     "execution_count": 253,
     "metadata": {},
     "output_type": "execute_result"
    }
   ],
   "source": [
    "#Reshape features into 3810x128x9 nested array. (3810 series, 128 measurements per series, 9 features per measurement )\n",
    "X = []\n",
    "\n",
    "for i in range(len(y_label)):\n",
    "    X.append(X_feature[(i*128):((i+1)*128), :])\n",
    "\n",
    "X = np.array(X).reshape(-1, 128, 9)\n",
    "X"
   ]
  },
  {
   "cell_type": "code",
   "execution_count": null,
   "metadata": {},
   "outputs": [],
   "source": []
  },
  {
   "cell_type": "code",
   "execution_count": 254,
   "metadata": {},
   "outputs": [
    {
     "data": {
      "text/plain": [
       "(3810, 128, 9)"
      ]
     },
     "execution_count": 254,
     "metadata": {},
     "output_type": "execute_result"
    }
   ],
   "source": [
    "#Use the first order difference of 3 orientation features\n",
    "#Absolute orientation features dont make sense to predict surface\n",
    "\n",
    "for i in range(3):\n",
    "    np_arr = X[:,:,i]\n",
    "    roll_arr = np.copy(np_arr)\n",
    "    roll_arr[:,1:] = roll_arr[:,:-1]\n",
    "    np_arr = np_arr - roll_arr\n",
    "    X[:,:,i] = np_arr\n",
    "    \n",
    "np.shape(X)"
   ]
  },
  {
   "cell_type": "code",
   "execution_count": 255,
   "metadata": {},
   "outputs": [
    {
     "data": {
      "text/plain": [
       "(3810, 128, 9)"
      ]
     },
     "execution_count": 255,
     "metadata": {},
     "output_type": "execute_result"
    }
   ],
   "source": [
    "#Normalize each 128-pt sample to ensure there is no group related information left in the samples\n",
    "\n",
    "for i in range(3, 9):\n",
    "    np_arr = X[:,:,i]\n",
    "    mean_arr = np.mean(np_arr,1)\n",
    "    mean_arr = np.expand_dims(mean_arr,1)\n",
    "    mean_arr = np.repeat(mean_arr,128,1)\n",
    "    np_arr = np_arr - mean_arr\n",
    "    X[:,:,i] = np_arr\n",
    "    \n",
    "np.shape(X)"
   ]
  },
  {
   "cell_type": "code",
   "execution_count": 256,
   "metadata": {},
   "outputs": [
    {
     "data": {
      "text/plain": [
       "array([[[ 1.25566511e-04, -1.56790099e-03, -6.93865512e-04, ...,\n",
       "         -5.43771568e-01, -4.14564665e-01, -1.52173302e-01],\n",
       "        [-2.00818145e-01,  3.57302722e-02, -1.08367811e-03, ...,\n",
       "          4.11227740e-02, -6.95239553e-01, -3.24906080e-02],\n",
       "        [ 6.79281836e-02, -4.43049173e-01,  9.62011155e-05, ...,\n",
       "         -2.83553445e-01, -6.54874308e-01,  2.08738230e-01],\n",
       "        ...,\n",
       "        [-6.35630851e-02,  1.08306761e+00, -3.49355354e-03, ...,\n",
       "         -6.69162874e-01, -9.46049805e-01, -2.31739088e-01],\n",
       "        [-3.08049681e-02,  5.12517975e-01, -2.14737226e-03, ...,\n",
       "         -5.31595673e-01, -1.23960111e+00, -9.34048670e-01],\n",
       "        [ 5.00241646e-01, -5.13064190e-01, -1.53254020e-03, ...,\n",
       "         -4.28616398e-01, -1.02594288e+00, -4.84007987e-01]],\n",
       "\n",
       "       [[ 1.25566511e-04, -1.56790099e-03, -6.93865512e-04, ...,\n",
       "          1.10847534e+00, -2.42564517e-01,  1.54208978e-01],\n",
       "        [-1.75360322e+00, -7.92391389e-01, -3.09564236e-03, ...,\n",
       "          2.02671457e-01,  9.78584610e-02,  1.36896723e+00],\n",
       "        [-5.20903512e-01,  3.26374106e-02,  5.74611980e-04, ...,\n",
       "          3.36584815e-01, -5.11807290e-01,  7.32300299e-01],\n",
       "        ...,\n",
       "        [ 5.07721195e-01, -2.97224200e-01,  1.87717516e-03, ...,\n",
       "         -1.78139233e+00, -1.53428530e+00, -1.67781067e-01],\n",
       "        [ 3.29851149e-01, -4.73755025e-01,  6.03552561e-04, ...,\n",
       "          7.54589864e-01, -2.07468395e-01, -3.51981312e-01],\n",
       "        [ 4.82853354e-01, -7.92656464e-01, -3.46085063e-03, ...,\n",
       "         -6.19235409e-02, -3.27058667e-01, -1.10682155e-01]],\n",
       "\n",
       "       [[ 1.25566511e-04, -1.56790099e-03, -6.93865512e-04, ...,\n",
       "          1.34122148e-01,  3.38661317e-01,  1.28387564e+00],\n",
       "        [-2.18585393e+00,  5.26129112e-01, -5.14662500e-03, ...,\n",
       "          5.59085619e-01,  3.22759857e-01,  7.57468681e-01],\n",
       "        [-1.05214026e+00, -7.73766915e-01, -3.61722929e-03, ...,\n",
       "          6.26090658e-01,  9.93866813e-02, -4.15309211e-01],\n",
       "        ...,\n",
       "        [ 3.24362304e-01,  1.58291945e-01, -3.17026504e-03, ...,\n",
       "         -1.40211632e-01,  6.22535316e-01, -3.86478479e-01],\n",
       "        [ 4.98688404e-01, -2.55908848e-02, -3.44574881e-03, ...,\n",
       "         -1.47374086e+00, -3.94264274e-01, -5.92145204e-02],\n",
       "        [ 4.88485561e-01,  3.28479476e-01, -2.85816971e-03, ...,\n",
       "         -9.81116805e-01,  6.85246755e-02,  4.00424686e-01]],\n",
       "\n",
       "       ...,\n",
       "\n",
       "       [[ 1.25566511e-04, -1.56790099e-03, -6.93865512e-04, ...,\n",
       "          1.08817780e+00,  1.40767343e-01, -3.68237054e-02],\n",
       "        [-4.15322660e-01, -8.90475966e-01,  1.98374822e-02, ...,\n",
       "         -6.46043912e-02, -1.69299794e-02,  2.78626686e-01],\n",
       "        [-5.69069456e-01,  2.96819205e-01,  1.98388363e-02, ...,\n",
       "          5.88998325e-01,  8.35256564e-01,  2.99194951e-01],\n",
       "        ...,\n",
       "        [ 1.27747758e+00,  1.33431932e-01,  2.23185454e-02, ...,\n",
       "         -1.20761793e+00, -1.56782104e+00, -1.07360493e+00],\n",
       "        [ 7.03801095e-01, -1.16103136e+00,  2.26802515e-02, ...,\n",
       "          1.29456622e+00, -9.62172998e-01, -5.01209435e-01],\n",
       "        [-9.25489282e-03, -1.62000445e-01,  1.67078946e-02, ...,\n",
       "         -2.13999277e+00, -2.41085249e+00, -3.90105641e-01]],\n",
       "\n",
       "       [[ 1.25566511e-04, -1.56790099e-03, -6.93865512e-04, ...,\n",
       "         -9.46835439e-02,  1.53191519e+00, -4.92076499e-01],\n",
       "        [ 3.68002717e-01,  7.35724407e-01, -1.91988002e-03, ...,\n",
       "          6.49597355e-01,  2.09754612e+00,  2.98061334e-01],\n",
       "        [ 3.61187240e-01,  8.73002415e-01, -4.17492387e-03, ...,\n",
       "         -3.63033081e-01,  2.15070781e+00,  6.10312218e-01],\n",
       "        ...,\n",
       "        [ 4.70655481e-01, -3.31363671e-02, -4.04126798e-03, ...,\n",
       "          9.88276390e-01,  1.00928405e+00, -2.00569678e-01],\n",
       "        [ 4.92266826e-01, -2.96028762e-01, -1.68812525e-03, ...,\n",
       "         -1.30725067e+00,  1.18758741e+00,  3.42151258e-01],\n",
       "        [ 5.69376470e-01, -1.90104765e-01, -3.15885094e-03, ...,\n",
       "          1.38643785e+00,  1.68288497e+00,  3.38986909e-01]],\n",
       "\n",
       "       [[ 1.25566511e-04, -1.56790099e-03, -6.93865512e-04, ...,\n",
       "          2.87239559e-01,  2.71205444e-01,  2.01945044e-01],\n",
       "        [ 5.38517282e-01,  3.04041925e-01, -9.04311429e-04, ...,\n",
       "          2.00283461e-01,  2.95810366e-01,  4.15011180e-01],\n",
       "        [ 6.07205561e-01,  4.07206226e-02, -5.66166644e-03, ...,\n",
       "          3.75791526e-01,  3.67366938e-01,  4.41451070e-01],\n",
       "        ...,\n",
       "        [-2.06755055e-01, -8.23593779e-01,  4.27510240e-03, ...,\n",
       "          1.37239878e+00,  9.59672811e-01,  4.98022590e-01],\n",
       "        [-4.86562045e-01,  2.87779426e-01,  6.46018919e-03, ...,\n",
       "          1.28438415e+00,  1.17175501e+00,  4.12312968e-02],\n",
       "        [-3.14171285e-01, -6.38037526e-02,  6.73831648e-03, ...,\n",
       "          3.61740349e-01,  9.65741711e-01, -3.29524875e-01]]])"
      ]
     },
     "execution_count": 256,
     "metadata": {},
     "output_type": "execute_result"
    }
   ],
   "source": [
    "#Further normalization across the entire dataset to ensure NN inputs are zero-mean and unit standard deviation\n",
    "\n",
    "num_sensor = X.shape[2]\n",
    "for i in range(num_sensor):\n",
    "    mean_s = np.mean(X[:,:,i])\n",
    "    sd_s = np.std(X[:,:,i])\n",
    "    X[:,:,i] = (X[:,:,i]-mean_s)/sd_s\n",
    "X"
   ]
  },
  {
   "cell_type": "code",
   "execution_count": 257,
   "metadata": {},
   "outputs": [
    {
     "data": {
      "text/plain": [
       "array([[[[ 1.25566511e-04],\n",
       "         [-1.56790099e-03],\n",
       "         [-6.93865512e-04],\n",
       "         ...,\n",
       "         [-5.43771568e-01],\n",
       "         [-4.14564665e-01],\n",
       "         [-1.52173302e-01]],\n",
       "\n",
       "        [[-2.00818145e-01],\n",
       "         [ 3.57302722e-02],\n",
       "         [-1.08367811e-03],\n",
       "         ...,\n",
       "         [ 4.11227740e-02],\n",
       "         [-6.95239553e-01],\n",
       "         [-3.24906080e-02]],\n",
       "\n",
       "        [[ 6.79281836e-02],\n",
       "         [-4.43049173e-01],\n",
       "         [ 9.62011155e-05],\n",
       "         ...,\n",
       "         [-2.83553445e-01],\n",
       "         [-6.54874308e-01],\n",
       "         [ 2.08738230e-01]],\n",
       "\n",
       "        ...,\n",
       "\n",
       "        [[-6.35630851e-02],\n",
       "         [ 1.08306761e+00],\n",
       "         [-3.49355354e-03],\n",
       "         ...,\n",
       "         [-6.69162874e-01],\n",
       "         [-9.46049805e-01],\n",
       "         [-2.31739088e-01]],\n",
       "\n",
       "        [[-3.08049681e-02],\n",
       "         [ 5.12517975e-01],\n",
       "         [-2.14737226e-03],\n",
       "         ...,\n",
       "         [-5.31595673e-01],\n",
       "         [-1.23960111e+00],\n",
       "         [-9.34048670e-01]],\n",
       "\n",
       "        [[ 5.00241646e-01],\n",
       "         [-5.13064190e-01],\n",
       "         [-1.53254020e-03],\n",
       "         ...,\n",
       "         [-4.28616398e-01],\n",
       "         [-1.02594288e+00],\n",
       "         [-4.84007987e-01]]],\n",
       "\n",
       "\n",
       "       [[[ 1.25566511e-04],\n",
       "         [-1.56790099e-03],\n",
       "         [-6.93865512e-04],\n",
       "         ...,\n",
       "         [ 1.10847534e+00],\n",
       "         [-2.42564517e-01],\n",
       "         [ 1.54208978e-01]],\n",
       "\n",
       "        [[-1.75360322e+00],\n",
       "         [-7.92391389e-01],\n",
       "         [-3.09564236e-03],\n",
       "         ...,\n",
       "         [ 2.02671457e-01],\n",
       "         [ 9.78584610e-02],\n",
       "         [ 1.36896723e+00]],\n",
       "\n",
       "        [[-5.20903512e-01],\n",
       "         [ 3.26374106e-02],\n",
       "         [ 5.74611980e-04],\n",
       "         ...,\n",
       "         [ 3.36584815e-01],\n",
       "         [-5.11807290e-01],\n",
       "         [ 7.32300299e-01]],\n",
       "\n",
       "        ...,\n",
       "\n",
       "        [[ 5.07721195e-01],\n",
       "         [-2.97224200e-01],\n",
       "         [ 1.87717516e-03],\n",
       "         ...,\n",
       "         [-1.78139233e+00],\n",
       "         [-1.53428530e+00],\n",
       "         [-1.67781067e-01]],\n",
       "\n",
       "        [[ 3.29851149e-01],\n",
       "         [-4.73755025e-01],\n",
       "         [ 6.03552561e-04],\n",
       "         ...,\n",
       "         [ 7.54589864e-01],\n",
       "         [-2.07468395e-01],\n",
       "         [-3.51981312e-01]],\n",
       "\n",
       "        [[ 4.82853354e-01],\n",
       "         [-7.92656464e-01],\n",
       "         [-3.46085063e-03],\n",
       "         ...,\n",
       "         [-6.19235409e-02],\n",
       "         [-3.27058667e-01],\n",
       "         [-1.10682155e-01]]],\n",
       "\n",
       "\n",
       "       [[[ 1.25566511e-04],\n",
       "         [-1.56790099e-03],\n",
       "         [-6.93865512e-04],\n",
       "         ...,\n",
       "         [ 1.34122148e-01],\n",
       "         [ 3.38661317e-01],\n",
       "         [ 1.28387564e+00]],\n",
       "\n",
       "        [[-2.18585393e+00],\n",
       "         [ 5.26129112e-01],\n",
       "         [-5.14662500e-03],\n",
       "         ...,\n",
       "         [ 5.59085619e-01],\n",
       "         [ 3.22759857e-01],\n",
       "         [ 7.57468681e-01]],\n",
       "\n",
       "        [[-1.05214026e+00],\n",
       "         [-7.73766915e-01],\n",
       "         [-3.61722929e-03],\n",
       "         ...,\n",
       "         [ 6.26090658e-01],\n",
       "         [ 9.93866813e-02],\n",
       "         [-4.15309211e-01]],\n",
       "\n",
       "        ...,\n",
       "\n",
       "        [[ 3.24362304e-01],\n",
       "         [ 1.58291945e-01],\n",
       "         [-3.17026504e-03],\n",
       "         ...,\n",
       "         [-1.40211632e-01],\n",
       "         [ 6.22535316e-01],\n",
       "         [-3.86478479e-01]],\n",
       "\n",
       "        [[ 4.98688404e-01],\n",
       "         [-2.55908848e-02],\n",
       "         [-3.44574881e-03],\n",
       "         ...,\n",
       "         [-1.47374086e+00],\n",
       "         [-3.94264274e-01],\n",
       "         [-5.92145204e-02]],\n",
       "\n",
       "        [[ 4.88485561e-01],\n",
       "         [ 3.28479476e-01],\n",
       "         [-2.85816971e-03],\n",
       "         ...,\n",
       "         [-9.81116805e-01],\n",
       "         [ 6.85246755e-02],\n",
       "         [ 4.00424686e-01]]],\n",
       "\n",
       "\n",
       "       ...,\n",
       "\n",
       "\n",
       "       [[[ 1.25566511e-04],\n",
       "         [-1.56790099e-03],\n",
       "         [-6.93865512e-04],\n",
       "         ...,\n",
       "         [ 1.08817780e+00],\n",
       "         [ 1.40767343e-01],\n",
       "         [-3.68237054e-02]],\n",
       "\n",
       "        [[-4.15322660e-01],\n",
       "         [-8.90475966e-01],\n",
       "         [ 1.98374822e-02],\n",
       "         ...,\n",
       "         [-6.46043912e-02],\n",
       "         [-1.69299794e-02],\n",
       "         [ 2.78626686e-01]],\n",
       "\n",
       "        [[-5.69069456e-01],\n",
       "         [ 2.96819205e-01],\n",
       "         [ 1.98388363e-02],\n",
       "         ...,\n",
       "         [ 5.88998325e-01],\n",
       "         [ 8.35256564e-01],\n",
       "         [ 2.99194951e-01]],\n",
       "\n",
       "        ...,\n",
       "\n",
       "        [[ 1.27747758e+00],\n",
       "         [ 1.33431932e-01],\n",
       "         [ 2.23185454e-02],\n",
       "         ...,\n",
       "         [-1.20761793e+00],\n",
       "         [-1.56782104e+00],\n",
       "         [-1.07360493e+00]],\n",
       "\n",
       "        [[ 7.03801095e-01],\n",
       "         [-1.16103136e+00],\n",
       "         [ 2.26802515e-02],\n",
       "         ...,\n",
       "         [ 1.29456622e+00],\n",
       "         [-9.62172998e-01],\n",
       "         [-5.01209435e-01]],\n",
       "\n",
       "        [[-9.25489282e-03],\n",
       "         [-1.62000445e-01],\n",
       "         [ 1.67078946e-02],\n",
       "         ...,\n",
       "         [-2.13999277e+00],\n",
       "         [-2.41085249e+00],\n",
       "         [-3.90105641e-01]]],\n",
       "\n",
       "\n",
       "       [[[ 1.25566511e-04],\n",
       "         [-1.56790099e-03],\n",
       "         [-6.93865512e-04],\n",
       "         ...,\n",
       "         [-9.46835439e-02],\n",
       "         [ 1.53191519e+00],\n",
       "         [-4.92076499e-01]],\n",
       "\n",
       "        [[ 3.68002717e-01],\n",
       "         [ 7.35724407e-01],\n",
       "         [-1.91988002e-03],\n",
       "         ...,\n",
       "         [ 6.49597355e-01],\n",
       "         [ 2.09754612e+00],\n",
       "         [ 2.98061334e-01]],\n",
       "\n",
       "        [[ 3.61187240e-01],\n",
       "         [ 8.73002415e-01],\n",
       "         [-4.17492387e-03],\n",
       "         ...,\n",
       "         [-3.63033081e-01],\n",
       "         [ 2.15070781e+00],\n",
       "         [ 6.10312218e-01]],\n",
       "\n",
       "        ...,\n",
       "\n",
       "        [[ 4.70655481e-01],\n",
       "         [-3.31363671e-02],\n",
       "         [-4.04126798e-03],\n",
       "         ...,\n",
       "         [ 9.88276390e-01],\n",
       "         [ 1.00928405e+00],\n",
       "         [-2.00569678e-01]],\n",
       "\n",
       "        [[ 4.92266826e-01],\n",
       "         [-2.96028762e-01],\n",
       "         [-1.68812525e-03],\n",
       "         ...,\n",
       "         [-1.30725067e+00],\n",
       "         [ 1.18758741e+00],\n",
       "         [ 3.42151258e-01]],\n",
       "\n",
       "        [[ 5.69376470e-01],\n",
       "         [-1.90104765e-01],\n",
       "         [-3.15885094e-03],\n",
       "         ...,\n",
       "         [ 1.38643785e+00],\n",
       "         [ 1.68288497e+00],\n",
       "         [ 3.38986909e-01]]],\n",
       "\n",
       "\n",
       "       [[[ 1.25566511e-04],\n",
       "         [-1.56790099e-03],\n",
       "         [-6.93865512e-04],\n",
       "         ...,\n",
       "         [ 2.87239559e-01],\n",
       "         [ 2.71205444e-01],\n",
       "         [ 2.01945044e-01]],\n",
       "\n",
       "        [[ 5.38517282e-01],\n",
       "         [ 3.04041925e-01],\n",
       "         [-9.04311429e-04],\n",
       "         ...,\n",
       "         [ 2.00283461e-01],\n",
       "         [ 2.95810366e-01],\n",
       "         [ 4.15011180e-01]],\n",
       "\n",
       "        [[ 6.07205561e-01],\n",
       "         [ 4.07206226e-02],\n",
       "         [-5.66166644e-03],\n",
       "         ...,\n",
       "         [ 3.75791526e-01],\n",
       "         [ 3.67366938e-01],\n",
       "         [ 4.41451070e-01]],\n",
       "\n",
       "        ...,\n",
       "\n",
       "        [[-2.06755055e-01],\n",
       "         [-8.23593779e-01],\n",
       "         [ 4.27510240e-03],\n",
       "         ...,\n",
       "         [ 1.37239878e+00],\n",
       "         [ 9.59672811e-01],\n",
       "         [ 4.98022590e-01]],\n",
       "\n",
       "        [[-4.86562045e-01],\n",
       "         [ 2.87779426e-01],\n",
       "         [ 6.46018919e-03],\n",
       "         ...,\n",
       "         [ 1.28438415e+00],\n",
       "         [ 1.17175501e+00],\n",
       "         [ 4.12312968e-02]],\n",
       "\n",
       "        [[-3.14171285e-01],\n",
       "         [-6.38037526e-02],\n",
       "         [ 6.73831648e-03],\n",
       "         ...,\n",
       "         [ 3.61740349e-01],\n",
       "         [ 9.65741711e-01],\n",
       "         [-3.29524875e-01]]]])"
      ]
     },
     "execution_count": 257,
     "metadata": {},
     "output_type": "execute_result"
    }
   ],
   "source": [
    "X = np.array(X).reshape(-1, 128, 9, 1)\n",
    "X"
   ]
  },
  {
   "cell_type": "code",
   "execution_count": 258,
   "metadata": {},
   "outputs": [
    {
     "data": {
      "text/plain": [
       "(128, 9, 1)"
      ]
     },
     "execution_count": 258,
     "metadata": {},
     "output_type": "execute_result"
    }
   ],
   "source": [
    "X.shape[1:]"
   ]
  },
  {
   "cell_type": "code",
   "execution_count": 259,
   "metadata": {},
   "outputs": [],
   "source": [
    "#x = np.sort(X_feature[:, 9])\n",
    "#x"
   ]
  },
  {
   "cell_type": "code",
   "execution_count": 260,
   "metadata": {},
   "outputs": [
    {
     "data": {
      "text/plain": [
       "'\\nX_feature_normed = normalize(X_feature, axis=0)\\nX_feature_normed\\n'"
      ]
     },
     "execution_count": 260,
     "metadata": {},
     "output_type": "execute_result"
    }
   ],
   "source": [
    "'''\n",
    "X_feature_normed = normalize(X_feature, axis=0)\n",
    "X_feature_normed\n",
    "'''"
   ]
  },
  {
   "cell_type": "code",
   "execution_count": 261,
   "metadata": {},
   "outputs": [],
   "source": [
    "#x = np.sort(X_feature_normed[:, 9])\n",
    "#x"
   ]
  },
  {
   "cell_type": "code",
   "execution_count": 252,
   "metadata": {},
   "outputs": [
    {
     "data": {
      "text/plain": [
       "'\\nX = []\\n\\nfor i in range(len(y_data)):\\n    X.append(X_feature_normed[(i*128):((i+1)*128), :])\\n\\nX = np.array(X).reshape(-1, 128, 10, 1)\\nX.shape[1:]\\n'"
      ]
     },
     "execution_count": 252,
     "metadata": {},
     "output_type": "execute_result"
    }
   ],
   "source": [
    "'''\n",
    "X = []\n",
    "\n",
    "for i in range(len(y_data)):\n",
    "    X.append(X_feature_normed[(i*128):((i+1)*128), :])\n",
    "\n",
    "X = np.array(X).reshape(-1, 128, 10, 1)\n",
    "X.shape[1:]\n",
    "'''"
   ]
  },
  {
   "cell_type": "code",
   "execution_count": 263,
   "metadata": {},
   "outputs": [
    {
     "name": "stdout",
     "output_type": "stream",
     "text": [
      "Train on 3048 samples, validate on 762 samples\n",
      "Epoch 1/20\n",
      "3048/3048 [==============================] - 21s 7ms/sample - loss: 2.0024 - acc: 0.2451 - val_loss: 1.7564 - val_acc: 0.3346\n",
      "Epoch 2/20\n",
      "3048/3048 [==============================] - 21s 7ms/sample - loss: 1.7030 - acc: 0.3730 - val_loss: 1.4946 - val_acc: 0.3766\n",
      "Epoch 3/20\n",
      "3048/3048 [==============================] - 21s 7ms/sample - loss: 1.5235 - acc: 0.4603 - val_loss: 1.4114 - val_acc: 0.4344\n",
      "Epoch 4/20\n",
      "3048/3048 [==============================] - 20s 7ms/sample - loss: 1.4216 - acc: 0.4921 - val_loss: 1.4079 - val_acc: 0.4633\n",
      "Epoch 5/20\n",
      "3048/3048 [==============================] - 20s 7ms/sample - loss: 1.2967 - acc: 0.5413 - val_loss: 1.3596 - val_acc: 0.4436\n",
      "Epoch 6/20\n",
      "3048/3048 [==============================] - 21s 7ms/sample - loss: 1.1852 - acc: 0.5823 - val_loss: 1.3225 - val_acc: 0.4777\n",
      "Epoch 7/20\n",
      "3048/3048 [==============================] - 20s 7ms/sample - loss: 1.0892 - acc: 0.6214 - val_loss: 1.1726 - val_acc: 0.5446\n",
      "Epoch 8/20\n",
      "3048/3048 [==============================] - 20s 7ms/sample - loss: 0.9911 - acc: 0.6545 - val_loss: 1.3622 - val_acc: 0.4790\n",
      "Epoch 9/20\n",
      "3048/3048 [==============================] - 20s 7ms/sample - loss: 0.9118 - acc: 0.6818 - val_loss: 1.3901 - val_acc: 0.5118\n",
      "Epoch 10/20\n",
      "3048/3048 [==============================] - 20s 7ms/sample - loss: 0.8124 - acc: 0.7251 - val_loss: 1.1469 - val_acc: 0.5761\n",
      "Epoch 11/20\n",
      "3048/3048 [==============================] - 20s 7ms/sample - loss: 0.7441 - acc: 0.7589 - val_loss: 1.2809 - val_acc: 0.5801\n",
      "Epoch 12/20\n",
      "3048/3048 [==============================] - 20s 7ms/sample - loss: 0.6451 - acc: 0.7871 - val_loss: 1.3545 - val_acc: 0.5840\n",
      "Epoch 13/20\n",
      "3048/3048 [==============================] - 20s 7ms/sample - loss: 0.5794 - acc: 0.8127 - val_loss: 1.7150 - val_acc: 0.5223\n",
      "Epoch 14/20\n",
      "3048/3048 [==============================] - 20s 7ms/sample - loss: 0.4934 - acc: 0.8438 - val_loss: 1.4200 - val_acc: 0.5866\n",
      "Epoch 15/20\n",
      "3048/3048 [==============================] - 20s 7ms/sample - loss: 0.4559 - acc: 0.8560 - val_loss: 1.6176 - val_acc: 0.5892\n",
      "Epoch 16/20\n",
      "3048/3048 [==============================] - 21s 7ms/sample - loss: 0.4071 - acc: 0.8707 - val_loss: 2.1097 - val_acc: 0.5144\n",
      "Epoch 17/20\n",
      "3048/3048 [==============================] - 20s 7ms/sample - loss: 0.3743 - acc: 0.8881 - val_loss: 1.8445 - val_acc: 0.5735\n",
      "Epoch 18/20\n",
      "3048/3048 [==============================] - 21s 7ms/sample - loss: 0.3528 - acc: 0.8990 - val_loss: 2.1673 - val_acc: 0.5407\n",
      "Epoch 19/20\n",
      "3048/3048 [==============================] - 20s 7ms/sample - loss: 0.2988 - acc: 0.9137 - val_loss: 1.7971 - val_acc: 0.6037\n",
      "Epoch 20/20\n",
      "3048/3048 [==============================] - 20s 7ms/sample - loss: 0.2412 - acc: 0.9341 - val_loss: 1.9194 - val_acc: 0.6076\n"
     ]
    },
    {
     "data": {
      "image/png": "[encoded data removed]",
      "text/plain": [
       "<Figure size 432x288 with 1 Axes>"
      ]
     },
     "metadata": {
      "needs_background": "light"
     },
     "output_type": "display_data"
    },
    {
     "data": {
      "image/png": "[encoded data removed]",
      "text/plain": [
       "<Figure size 432x288 with 1 Axes>"
      ]
     },
     "metadata": {
      "needs_background": "light"
     },
     "output_type": "display_data"
    }
   ],
   "source": [
    "#Learn a CNN model\n",
    "model = Sequential()\n",
    "\n",
    "model.add(Conv2D(64, (3,3), input_shape = X.shape[1:], padding='same'))\n",
    "model.add(Activation('relu'))\n",
    "model.add(MaxPooling2D(pool_size=(2,2)))\n",
    "\n",
    "model.add(Conv2D(64, (3,3), padding='same'))\n",
    "model.add(Activation('relu'))\n",
    "model.add(MaxPooling2D(pool_size=(2,2)))\n",
    "\n",
    "model.add(Flatten())\n",
    "model.add(Dense(64))\n",
    "model.add(Activation('relu'))\n",
    "\n",
    "model.add(Dense(9))\n",
    "model.add(Activation('softmax'))\n",
    "\n",
    "model.compile(loss='sparse_categorical_crossentropy', optimizer='adam', metrics=['accuracy'])\n",
    "\n",
    "\n",
    "\n",
    "history = model.fit(X, y, batch_size=32, epochs=20, validation_split=0.2)\n",
    "\n",
    "# Plot training & validation accuracy values\n",
    "plt.plot(history.history['acc'])\n",
    "plt.plot(history.history['val_acc'])\n",
    "plt.title('Model accuracy')\n",
    "plt.ylabel('Accuracy')\n",
    "plt.xlabel('Epoch')\n",
    "plt.legend(['Train', 'Validation'], loc='upper left')\n",
    "plt.show()\n",
    "\n",
    "# Plot training & validation loss values\n",
    "plt.plot(history.history['loss'])\n",
    "plt.plot(history.history['val_loss'])\n",
    "plt.title('Model loss')\n",
    "plt.ylabel('Loss')\n",
    "plt.xlabel('Epoch')\n",
    "plt.legend(['Train', 'Validation'], loc='upper left')\n",
    "plt.show()"
   ]
  },
  {
   "cell_type": "code",
   "execution_count": null,
   "metadata": {},
   "outputs": [],
   "source": []
  }
 ],
 "metadata": {
  "kernelspec": {
   "display_name": "Python 3",
   "language": "python",
   "name": "python3"
  },
  "language_info": {
   "codemirror_mode": {
    "name": "ipython",
    "version": 3
   },
   "file_extension": ".py",
   "mimetype": "text/x-python",
   "name": "python",
   "nbconvert_exporter": "python",
   "pygments_lexer": "ipython3",
   "version": "3.6.8"
  }
 },
 "nbformat": 4,
 "nbformat_minor": 2
}
